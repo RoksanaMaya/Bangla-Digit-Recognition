{
 "cells": [
  {
   "cell_type": "code",
   "execution_count": 33,
   "metadata": {},
   "outputs": [],
   "source": [
    "import cv2\n",
    "import numpy as np\n",
    "import os"
   ]
  },
  {
   "cell_type": "code",
   "execution_count": 34,
   "metadata": {},
   "outputs": [
    {
     "name": "stdout",
     "output_type": "stream",
     "text": [
      "Filename: 0.png, Shape: (1200, 1200, 4)\n",
      "Filename: 1.png, Shape: (360, 360, 3)\n",
      "Filename: 2.png, Shape: (920, 920, 3)\n",
      "Filename: 3.png, Shape: (1024, 1024, 4)\n",
      "Filename: 4.png, Shape: (1200, 1200, 4)\n",
      "Filename: 5.png, Shape: (360, 360, 3)\n",
      "Filename: 6.png, Shape: (800, 800, 4)\n",
      "Filename: 7.png, Shape: (900, 900, 3)\n",
      "Filename: 8.png, Shape: (900, 900, 3)\n"
     ]
    }
   ],
   "source": [
    "# Directory containing the PNG files\n",
    "directory = 'image'  \n",
    "\n",
    "# List to store PNG images\n",
    "png_image_list = []\n",
    "\n",
    "# Loop through files in the directory\n",
    "for filename in os.listdir(directory):\n",
    "    if filename.endswith('.png'):\n",
    "        # Read the PNG image and append to the list\n",
    "        path = os.path.join(directory, filename)\n",
    "        image = cv2.imread(path, cv2.IMREAD_UNCHANGED)\n",
    "        png_image_list.append((filename, image))  # Tuple with filename and image\n",
    "\n",
    "# Display the list\n",
    "for filename, image in png_image_list:\n",
    "    print(f\"Filename: {filename}, Shape: {image.shape}\")\n"
   ]
  },
  {
   "cell_type": "code",
   "execution_count": 35,
   "metadata": {},
   "outputs": [
    {
     "name": "stdout",
     "output_type": "stream",
     "text": [
      "Filename: 0.png, Shape: (1000, 1000)\n",
      "Filename: 1.png, Shape: (1000, 1000)\n",
      "Filename: 2.png, Shape: (1000, 1000)\n",
      "Filename: 3.png, Shape: (1000, 1000)\n",
      "Filename: 4.png, Shape: (1000, 1000)\n",
      "Filename: 5.png, Shape: (1000, 1000)\n",
      "Filename: 6.png, Shape: (1000, 1000)\n",
      "Filename: 7.png, Shape: (1000, 1000)\n",
      "Filename: 8.png, Shape: (1000, 1000)\n"
     ]
    }
   ],
   "source": [
    "new_list = []\n",
    "array_list=[]\n",
    "\n",
    "for filename, image in png_image_list:\n",
    "    # Resize the image\n",
    "    resized_image = cv2.resize(image, (1000, 1000))\n",
    "      \n",
    "    # Convert the resized image to grayscale\n",
    "    grayscale_image = cv2.cvtColor(resized_image, cv2.COLOR_BGR2GRAY)\n",
    "\n",
    "    matrix=np.array (grayscale_image)\n",
    "    array_list.append((filename, matrix))\n",
    "    # Append the processed image to the list\n",
    "    new_list.append((filename, grayscale_image))\n",
    "\n",
    "# Display the list\n",
    "for filename, image in new_list:\n",
    "    print(f\"Filename: {filename}, Shape: {image.shape}\")\n"
   ]
  },
  {
   "cell_type": "code",
   "execution_count": 36,
   "metadata": {},
   "outputs": [
    {
     "name": "stdout",
     "output_type": "stream",
     "text": [
      "Key: 0, Filename: 0.png, Matrix Shape: (1000, 1000)\n",
      "Key: 1, Filename: 1.png, Matrix Shape: (1000, 1000)\n",
      "Key: 2, Filename: 2.png, Matrix Shape: (1000, 1000)\n",
      "Key: 3, Filename: 3.png, Matrix Shape: (1000, 1000)\n",
      "Key: 4, Filename: 4.png, Matrix Shape: (1000, 1000)\n",
      "Key: 5, Filename: 5.png, Matrix Shape: (1000, 1000)\n",
      "Key: 6, Filename: 6.png, Matrix Shape: (1000, 1000)\n",
      "Key: 7, Filename: 7.png, Matrix Shape: (1000, 1000)\n",
      "Key: 8, Filename: 8.png, Matrix Shape: (1000, 1000)\n"
     ]
    }
   ],
   "source": [
    "\n",
    "# Convert the list to a dictionary with keys 0 to 8\n",
    "array_dict = {i: (filename, matrix) for i, (filename, matrix) in enumerate(array_list)}\n",
    "\n",
    "# Display the dictionary\n",
    "for key, (filename, matrix) in array_dict.items():\n",
    "    print(f\"Key: {key}, Filename: {filename}, Matrix Shape: {matrix.shape}\")\n"
   ]
  },
  {
   "cell_type": "code",
   "execution_count": 46,
   "metadata": {},
   "outputs": [
    {
     "ename": "error",
     "evalue": "OpenCV(4.8.0) D:\\a\\opencv-python\\opencv-python\\opencv\\modules\\imgproc\\src\\resize.cpp:4062: error: (-215:Assertion failed) !ssize.empty() in function 'cv::resize'\n",
     "output_type": "error",
     "traceback": [
      "\u001b[1;31m---------------------------------------------------------------------------\u001b[0m",
      "\u001b[1;31merror\u001b[0m                                     Traceback (most recent call last)",
      "Cell \u001b[1;32mIn [46], line 3\u001b[0m\n\u001b[0;32m      1\u001b[0m path\u001b[38;5;241m=\u001b[39m\u001b[38;5;124m\"\u001b[39m\u001b[38;5;124m..image/7.png\u001b[39m\u001b[38;5;124m\"\u001b[39m\n\u001b[0;32m      2\u001b[0m image \u001b[38;5;241m=\u001b[39m cv2\u001b[38;5;241m.\u001b[39mimread(path, cv2\u001b[38;5;241m.\u001b[39mIMREAD_UNCHANGED)\n\u001b[1;32m----> 3\u001b[0m resize_image\u001b[38;5;241m=\u001b[39m\u001b[43mcv2\u001b[49m\u001b[38;5;241;43m.\u001b[39;49m\u001b[43mresize\u001b[49m\u001b[43m(\u001b[49m\u001b[43mimage\u001b[49m\u001b[43m,\u001b[49m\u001b[43m(\u001b[49m\u001b[38;5;241;43m1000\u001b[39;49m\u001b[43m,\u001b[49m\u001b[38;5;241;43m1000\u001b[39;49m\u001b[43m)\u001b[49m\u001b[43m)\u001b[49m\n",
      "\u001b[1;31merror\u001b[0m: OpenCV(4.8.0) D:\\a\\opencv-python\\opencv-python\\opencv\\modules\\imgproc\\src\\resize.cpp:4062: error: (-215:Assertion failed) !ssize.empty() in function 'cv::resize'\n"
     ]
    }
   ],
   "source": [
    "path=\"..image/7.png\"\n",
    "image = cv2.imread(path, cv2.IMREAD_UNCHANGED)\n",
    "resize_image=cv2.resize(image,(1000,1000))"
   ]
  },
  {
   "cell_type": "code",
   "execution_count": 44,
   "metadata": {},
   "outputs": [
    {
     "ename": "error",
     "evalue": "OpenCV(4.8.0) D:\\a\\opencv-python\\opencv-python\\opencv\\modules\\highgui\\src\\window.cpp:1272: error: (-2:Unspecified error) The function is not implemented. Rebuild the library with Windows, GTK+ 2.x or Cocoa support. If you are on Ubuntu or Debian, install libgtk2.0-dev and pkg-config, then re-run cmake or configure script in function 'cvShowImage'\n",
     "output_type": "error",
     "traceback": [
      "\u001b[1;31m---------------------------------------------------------------------------\u001b[0m",
      "\u001b[1;31merror\u001b[0m                                     Traceback (most recent call last)",
      "Cell \u001b[1;32mIn [44], line 11\u001b[0m\n\u001b[0;32m      8\u001b[0m resized_image \u001b[38;5;241m=\u001b[39m cv2\u001b[38;5;241m.\u001b[39mresize(image, (\u001b[38;5;241m1000\u001b[39m, \u001b[38;5;241m1000\u001b[39m))\n\u001b[0;32m     10\u001b[0m \u001b[38;5;66;03m# Display the resized image (optional)\u001b[39;00m\n\u001b[1;32m---> 11\u001b[0m \u001b[43mcv2\u001b[49m\u001b[38;5;241;43m.\u001b[39;49m\u001b[43mimshow\u001b[49m\u001b[43m(\u001b[49m\u001b[38;5;124;43m\"\u001b[39;49m\u001b[38;5;124;43mResized Image\u001b[39;49m\u001b[38;5;124;43m\"\u001b[39;49m\u001b[43m,\u001b[49m\u001b[43m \u001b[49m\u001b[43mresized_image\u001b[49m\u001b[43m)\u001b[49m\n\u001b[0;32m     12\u001b[0m cv2\u001b[38;5;241m.\u001b[39mwaitKey(\u001b[38;5;241m0\u001b[39m)\n\u001b[0;32m     13\u001b[0m cv2\u001b[38;5;241m.\u001b[39mdestroyAllWindows()\n",
      "\u001b[1;31merror\u001b[0m: OpenCV(4.8.0) D:\\a\\opencv-python\\opencv-python\\opencv\\modules\\highgui\\src\\window.cpp:1272: error: (-2:Unspecified error) The function is not implemented. Rebuild the library with Windows, GTK+ 2.x or Cocoa support. If you are on Ubuntu or Debian, install libgtk2.0-dev and pkg-config, then re-run cmake or configure script in function 'cvShowImage'\n"
     ]
    }
   ],
   "source": [
    "import cv2\n",
    "\n",
    "path = \"image/7.png\"\n",
    "image = cv2.imread(path, cv2.IMREAD_UNCHANGED)\n",
    "\n",
    "if image is not None:\n",
    "    # Resize the image\n",
    "    resized_image = cv2.resize(image, (1000, 1000))\n",
    "\n",
    "    # Display the resized image (optional)\n",
    "    cv2.imshow(\"Resized Image\", resized_image)\n",
    "    cv2.waitKey(0)\n",
    "    cv2.destroyAllWindows()\n",
    "else:\n",
    "    print(f\"Error: Unable to read the image at path '{path}'\")\n"
   ]
  },
  {
   "cell_type": "code",
   "execution_count": 38,
   "metadata": {},
   "outputs": [
    {
     "name": "stdout",
     "output_type": "stream",
     "text": [
      "No matching key found.\n"
     ]
    }
   ],
   "source": [
    "reference_matrix = np.array(image)\n",
    "\n",
    "# Find the key for the matching matrix\n",
    "matching_key = None\n",
    "for key, (_, matrix) in array_dict.items():\n",
    "    if np.array_equal(matrix, reference_matrix):\n",
    "        matching_key = key\n",
    "        break\n",
    "\n",
    "# Display the result\n",
    "if matching_key is not None:\n",
    "    print(f\"The matching key is: {matching_key}\")\n",
    "else:\n",
    "    print(\"No matching key found.\")"
   ]
  }
 ],
 "metadata": {
  "kernelspec": {
   "display_name": "Python 3",
   "language": "python",
   "name": "python3"
  },
  "language_info": {
   "codemirror_mode": {
    "name": "ipython",
    "version": 3
   },
   "file_extension": ".py",
   "mimetype": "text/x-python",
   "name": "python",
   "nbconvert_exporter": "python",
   "pygments_lexer": "ipython3",
   "version": "3.10.6"
  }
 },
 "nbformat": 4,
 "nbformat_minor": 2
}
